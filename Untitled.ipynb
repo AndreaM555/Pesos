{
 "cells": [
  {
   "cell_type": "code",
   "execution_count": 2,
   "id": "22e38152-d0be-429e-86a6-9deaaea32d27",
   "metadata": {},
   "outputs": [],
   "source": [
    "import pandas as pd\n",
    "import tensorflow as tf\n",
    "from tensorflow.keras import Sequential\n",
    "from tensorflow.keras.layers import Dense\n",
    "\n",
    "import numpy as np\n",
    "import json\n",
    "\n",
    "from sklearn.model_selection import train_test_split\n",
    "from sklearn.utils import shuffle\n",
    "from google.cloud import bigquery\n",
    "from witwidget.notebook.visualization import WitWidget, WitConfigBuilder"
   ]
  },
  {
   "cell_type": "code",
   "execution_count": 3,
   "id": "53034e39-f7e8-4724-bda4-be2b82ab8070",
   "metadata": {},
   "outputs": [
    {
     "data": {
      "text/html": [
       "<div>\n",
       "<style scoped>\n",
       "    .dataframe tbody tr th:only-of-type {\n",
       "        vertical-align: middle;\n",
       "    }\n",
       "\n",
       "    .dataframe tbody tr th {\n",
       "        vertical-align: top;\n",
       "    }\n",
       "\n",
       "    .dataframe thead th {\n",
       "        text-align: right;\n",
       "    }\n",
       "</style>\n",
       "<table border=\"1\" class=\"dataframe\">\n",
       "  <thead>\n",
       "    <tr style=\"text-align: right;\">\n",
       "      <th></th>\n",
       "      <th>weight_pounds</th>\n",
       "      <th>is_male</th>\n",
       "      <th>mother_age</th>\n",
       "      <th>plurality</th>\n",
       "      <th>gestation_weeks</th>\n",
       "    </tr>\n",
       "  </thead>\n",
       "  <tbody>\n",
       "    <tr>\n",
       "      <th>0</th>\n",
       "      <td>6.686620</td>\n",
       "      <td>True</td>\n",
       "      <td>18</td>\n",
       "      <td>1</td>\n",
       "      <td>43.0</td>\n",
       "    </tr>\n",
       "    <tr>\n",
       "      <th>1</th>\n",
       "      <td>9.360828</td>\n",
       "      <td>True</td>\n",
       "      <td>32</td>\n",
       "      <td>1</td>\n",
       "      <td>41.0</td>\n",
       "    </tr>\n",
       "    <tr>\n",
       "      <th>2</th>\n",
       "      <td>8.437091</td>\n",
       "      <td>False</td>\n",
       "      <td>30</td>\n",
       "      <td>1</td>\n",
       "      <td>39.0</td>\n",
       "    </tr>\n",
       "    <tr>\n",
       "      <th>3</th>\n",
       "      <td>6.124442</td>\n",
       "      <td>False</td>\n",
       "      <td>24</td>\n",
       "      <td>1</td>\n",
       "      <td>40.0</td>\n",
       "    </tr>\n",
       "    <tr>\n",
       "      <th>4</th>\n",
       "      <td>7.125340</td>\n",
       "      <td>False</td>\n",
       "      <td>26</td>\n",
       "      <td>1</td>\n",
       "      <td>41.0</td>\n",
       "    </tr>\n",
       "  </tbody>\n",
       "</table>\n",
       "</div>"
      ],
      "text/plain": [
       "   weight_pounds  is_male  mother_age  plurality  gestation_weeks\n",
       "0       6.686620     True          18          1             43.0\n",
       "1       9.360828     True          32          1             41.0\n",
       "2       8.437091    False          30          1             39.0\n",
       "3       6.124442    False          24          1             40.0\n",
       "4       7.125340    False          26          1             41.0"
      ]
     },
     "execution_count": 3,
     "metadata": {},
     "output_type": "execute_result"
    }
   ],
   "source": [
    "query=\"\"\"\n",
    "SELECT\n",
    "  weight_pounds,\n",
    "  is_male,\n",
    "  mother_age,\n",
    "  plurality,\n",
    "  gestation_weeks\n",
    "FROM\n",
    "  publicdata.samples.natality\n",
    "WHERE year > 2000\n",
    "LIMIT 10000\n",
    "\"\"\"\n",
    "df = bigquery.Client().query(query).to_dataframe()\n",
    "df.head()"
   ]
  },
  {
   "cell_type": "code",
   "execution_count": 4,
   "id": "5c7cec7f-122d-4754-974e-19b808682f61",
   "metadata": {},
   "outputs": [
    {
     "data": {
      "text/plain": [
       "weight_pounds       11\n",
       "is_male              0\n",
       "mother_age           0\n",
       "plurality            0\n",
       "gestation_weeks    110\n",
       "dtype: int64"
      ]
     },
     "execution_count": 4,
     "metadata": {},
     "output_type": "execute_result"
    }
   ],
   "source": [
    "df.isna().sum()"
   ]
  },
  {
   "cell_type": "code",
   "execution_count": 5,
   "id": "ceb782b2-8b86-46fd-9fd0-efc86311b1cf",
   "metadata": {},
   "outputs": [
    {
     "data": {
      "text/html": [
       "<div>\n",
       "<style scoped>\n",
       "    .dataframe tbody tr th:only-of-type {\n",
       "        vertical-align: middle;\n",
       "    }\n",
       "\n",
       "    .dataframe tbody tr th {\n",
       "        vertical-align: top;\n",
       "    }\n",
       "\n",
       "    .dataframe thead th {\n",
       "        text-align: right;\n",
       "    }\n",
       "</style>\n",
       "<table border=\"1\" class=\"dataframe\">\n",
       "  <thead>\n",
       "    <tr style=\"text-align: right;\">\n",
       "      <th></th>\n",
       "      <th>weight_pounds</th>\n",
       "      <th>mother_age</th>\n",
       "      <th>plurality</th>\n",
       "      <th>gestation_weeks</th>\n",
       "    </tr>\n",
       "  </thead>\n",
       "  <tbody>\n",
       "    <tr>\n",
       "      <th>count</th>\n",
       "      <td>9989.000000</td>\n",
       "      <td>10000.000000</td>\n",
       "      <td>10000.000000</td>\n",
       "      <td>9890.000000</td>\n",
       "    </tr>\n",
       "    <tr>\n",
       "      <th>mean</th>\n",
       "      <td>7.297602</td>\n",
       "      <td>27.298900</td>\n",
       "      <td>1.034400</td>\n",
       "      <td>38.699798</td>\n",
       "    </tr>\n",
       "    <tr>\n",
       "      <th>std</th>\n",
       "      <td>1.291685</td>\n",
       "      <td>6.165838</td>\n",
       "      <td>0.192926</td>\n",
       "      <td>2.539957</td>\n",
       "    </tr>\n",
       "    <tr>\n",
       "      <th>min</th>\n",
       "      <td>0.612885</td>\n",
       "      <td>12.000000</td>\n",
       "      <td>1.000000</td>\n",
       "      <td>17.000000</td>\n",
       "    </tr>\n",
       "    <tr>\n",
       "      <th>25%</th>\n",
       "      <td>6.624891</td>\n",
       "      <td>22.000000</td>\n",
       "      <td>1.000000</td>\n",
       "      <td>38.000000</td>\n",
       "    </tr>\n",
       "    <tr>\n",
       "      <th>50%</th>\n",
       "      <td>7.374463</td>\n",
       "      <td>27.000000</td>\n",
       "      <td>1.000000</td>\n",
       "      <td>39.000000</td>\n",
       "    </tr>\n",
       "    <tr>\n",
       "      <th>75%</th>\n",
       "      <td>8.124034</td>\n",
       "      <td>32.000000</td>\n",
       "      <td>1.000000</td>\n",
       "      <td>40.000000</td>\n",
       "    </tr>\n",
       "    <tr>\n",
       "      <th>max</th>\n",
       "      <td>12.257702</td>\n",
       "      <td>50.000000</td>\n",
       "      <td>3.000000</td>\n",
       "      <td>47.000000</td>\n",
       "    </tr>\n",
       "  </tbody>\n",
       "</table>\n",
       "</div>"
      ],
      "text/plain": [
       "       weight_pounds    mother_age     plurality  gestation_weeks\n",
       "count    9989.000000  10000.000000  10000.000000      9890.000000\n",
       "mean        7.297602     27.298900      1.034400        38.699798\n",
       "std         1.291685      6.165838      0.192926         2.539957\n",
       "min         0.612885     12.000000      1.000000        17.000000\n",
       "25%         6.624891     22.000000      1.000000        38.000000\n",
       "50%         7.374463     27.000000      1.000000        39.000000\n",
       "75%         8.124034     32.000000      1.000000        40.000000\n",
       "max        12.257702     50.000000      3.000000        47.000000"
      ]
     },
     "execution_count": 5,
     "metadata": {},
     "output_type": "execute_result"
    }
   ],
   "source": [
    "df.describe()"
   ]
  },
  {
   "cell_type": "code",
   "execution_count": 8,
   "id": "bf3eade9-c061-497f-8ab5-39def5c333ae",
   "metadata": {},
   "outputs": [
    {
     "data": {
      "text/html": [
       "<div>\n",
       "<style scoped>\n",
       "    .dataframe tbody tr th:only-of-type {\n",
       "        vertical-align: middle;\n",
       "    }\n",
       "\n",
       "    .dataframe tbody tr th {\n",
       "        vertical-align: top;\n",
       "    }\n",
       "\n",
       "    .dataframe thead th {\n",
       "        text-align: right;\n",
       "    }\n",
       "</style>\n",
       "<table border=\"1\" class=\"dataframe\">\n",
       "  <thead>\n",
       "    <tr style=\"text-align: right;\">\n",
       "      <th></th>\n",
       "      <th>weight_pounds</th>\n",
       "      <th>is_male</th>\n",
       "      <th>mother_age</th>\n",
       "      <th>plurality</th>\n",
       "      <th>gestation_weeks</th>\n",
       "    </tr>\n",
       "  </thead>\n",
       "  <tbody>\n",
       "    <tr>\n",
       "      <th>202</th>\n",
       "      <td>8.434886</td>\n",
       "      <td>False</td>\n",
       "      <td>27</td>\n",
       "      <td>1</td>\n",
       "      <td>NaN</td>\n",
       "    </tr>\n",
       "    <tr>\n",
       "      <th>329</th>\n",
       "      <td>8.249698</td>\n",
       "      <td>True</td>\n",
       "      <td>39</td>\n",
       "      <td>1</td>\n",
       "      <td>NaN</td>\n",
       "    </tr>\n",
       "    <tr>\n",
       "      <th>429</th>\n",
       "      <td>7.936641</td>\n",
       "      <td>False</td>\n",
       "      <td>21</td>\n",
       "      <td>1</td>\n",
       "      <td>NaN</td>\n",
       "    </tr>\n",
       "    <tr>\n",
       "      <th>505</th>\n",
       "      <td>7.561856</td>\n",
       "      <td>True</td>\n",
       "      <td>35</td>\n",
       "      <td>1</td>\n",
       "      <td>NaN</td>\n",
       "    </tr>\n",
       "    <tr>\n",
       "      <th>582</th>\n",
       "      <td>7.749249</td>\n",
       "      <td>True</td>\n",
       "      <td>31</td>\n",
       "      <td>1</td>\n",
       "      <td>NaN</td>\n",
       "    </tr>\n",
       "    <tr>\n",
       "      <th>...</th>\n",
       "      <td>...</td>\n",
       "      <td>...</td>\n",
       "      <td>...</td>\n",
       "      <td>...</td>\n",
       "      <td>...</td>\n",
       "    </tr>\n",
       "    <tr>\n",
       "      <th>9483</th>\n",
       "      <td>8.000575</td>\n",
       "      <td>True</td>\n",
       "      <td>36</td>\n",
       "      <td>1</td>\n",
       "      <td>NaN</td>\n",
       "    </tr>\n",
       "    <tr>\n",
       "      <th>9548</th>\n",
       "      <td>1.124358</td>\n",
       "      <td>True</td>\n",
       "      <td>33</td>\n",
       "      <td>1</td>\n",
       "      <td>NaN</td>\n",
       "    </tr>\n",
       "    <tr>\n",
       "      <th>9724</th>\n",
       "      <td>NaN</td>\n",
       "      <td>False</td>\n",
       "      <td>35</td>\n",
       "      <td>2</td>\n",
       "      <td>34.0</td>\n",
       "    </tr>\n",
       "    <tr>\n",
       "      <th>9806</th>\n",
       "      <td>NaN</td>\n",
       "      <td>False</td>\n",
       "      <td>28</td>\n",
       "      <td>2</td>\n",
       "      <td>NaN</td>\n",
       "    </tr>\n",
       "    <tr>\n",
       "      <th>9841</th>\n",
       "      <td>7.063611</td>\n",
       "      <td>False</td>\n",
       "      <td>17</td>\n",
       "      <td>1</td>\n",
       "      <td>NaN</td>\n",
       "    </tr>\n",
       "  </tbody>\n",
       "</table>\n",
       "<p>117 rows × 5 columns</p>\n",
       "</div>"
      ],
      "text/plain": [
       "      weight_pounds  is_male  mother_age  plurality  gestation_weeks\n",
       "202        8.434886    False          27          1              NaN\n",
       "329        8.249698     True          39          1              NaN\n",
       "429        7.936641    False          21          1              NaN\n",
       "505        7.561856     True          35          1              NaN\n",
       "582        7.749249     True          31          1              NaN\n",
       "...             ...      ...         ...        ...              ...\n",
       "9483       8.000575     True          36          1              NaN\n",
       "9548       1.124358     True          33          1              NaN\n",
       "9724            NaN    False          35          2             34.0\n",
       "9806            NaN    False          28          2              NaN\n",
       "9841       7.063611    False          17          1              NaN\n",
       "\n",
       "[117 rows x 5 columns]"
      ]
     },
     "execution_count": 8,
     "metadata": {},
     "output_type": "execute_result"
    }
   ],
   "source": [
    "df[df.isna().any(axis=1)]"
   ]
  },
  {
   "cell_type": "code",
   "execution_count": 9,
   "id": "745e7e99-e856-42c3-8d3f-fefa4ba98fe4",
   "metadata": {},
   "outputs": [
    {
     "data": {
      "text/html": [
       "<div>\n",
       "<style scoped>\n",
       "    .dataframe tbody tr th:only-of-type {\n",
       "        vertical-align: middle;\n",
       "    }\n",
       "\n",
       "    .dataframe tbody tr th {\n",
       "        vertical-align: top;\n",
       "    }\n",
       "\n",
       "    .dataframe thead th {\n",
       "        text-align: right;\n",
       "    }\n",
       "</style>\n",
       "<table border=\"1\" class=\"dataframe\">\n",
       "  <thead>\n",
       "    <tr style=\"text-align: right;\">\n",
       "      <th></th>\n",
       "      <th>weight_pounds</th>\n",
       "      <th>mother_age</th>\n",
       "      <th>plurality</th>\n",
       "      <th>gestation_weeks</th>\n",
       "    </tr>\n",
       "  </thead>\n",
       "  <tbody>\n",
       "    <tr>\n",
       "      <th>count</th>\n",
       "      <td>106.000000</td>\n",
       "      <td>117.000000</td>\n",
       "      <td>117.000000</td>\n",
       "      <td>7.000000</td>\n",
       "    </tr>\n",
       "    <tr>\n",
       "      <th>mean</th>\n",
       "      <td>7.148010</td>\n",
       "      <td>26.589744</td>\n",
       "      <td>1.076923</td>\n",
       "      <td>27.714286</td>\n",
       "    </tr>\n",
       "    <tr>\n",
       "      <th>std</th>\n",
       "      <td>1.677195</td>\n",
       "      <td>6.211993</td>\n",
       "      <td>0.267615</td>\n",
       "      <td>6.969321</td>\n",
       "    </tr>\n",
       "    <tr>\n",
       "      <th>min</th>\n",
       "      <td>1.124358</td>\n",
       "      <td>15.000000</td>\n",
       "      <td>1.000000</td>\n",
       "      <td>17.000000</td>\n",
       "    </tr>\n",
       "    <tr>\n",
       "      <th>25%</th>\n",
       "      <td>6.555997</td>\n",
       "      <td>21.000000</td>\n",
       "      <td>1.000000</td>\n",
       "      <td>24.000000</td>\n",
       "    </tr>\n",
       "    <tr>\n",
       "      <th>50%</th>\n",
       "      <td>7.312733</td>\n",
       "      <td>27.000000</td>\n",
       "      <td>1.000000</td>\n",
       "      <td>28.000000</td>\n",
       "    </tr>\n",
       "    <tr>\n",
       "      <th>75%</th>\n",
       "      <td>8.113011</td>\n",
       "      <td>32.000000</td>\n",
       "      <td>1.000000</td>\n",
       "      <td>31.500000</td>\n",
       "    </tr>\n",
       "    <tr>\n",
       "      <th>max</th>\n",
       "      <td>11.278849</td>\n",
       "      <td>39.000000</td>\n",
       "      <td>2.000000</td>\n",
       "      <td>38.000000</td>\n",
       "    </tr>\n",
       "  </tbody>\n",
       "</table>\n",
       "</div>"
      ],
      "text/plain": [
       "       weight_pounds  mother_age   plurality  gestation_weeks\n",
       "count     106.000000  117.000000  117.000000         7.000000\n",
       "mean        7.148010   26.589744    1.076923        27.714286\n",
       "std         1.677195    6.211993    0.267615         6.969321\n",
       "min         1.124358   15.000000    1.000000        17.000000\n",
       "25%         6.555997   21.000000    1.000000        24.000000\n",
       "50%         7.312733   27.000000    1.000000        28.000000\n",
       "75%         8.113011   32.000000    1.000000        31.500000\n",
       "max        11.278849   39.000000    2.000000        38.000000"
      ]
     },
     "execution_count": 9,
     "metadata": {},
     "output_type": "execute_result"
    }
   ],
   "source": [
    "df[df.isna().any(axis=1)].describe()"
   ]
  },
  {
   "cell_type": "code",
   "execution_count": 10,
   "id": "10551a47-d81a-443e-a465-853c3d29f676",
   "metadata": {},
   "outputs": [
    {
     "data": {
      "text/plain": [
       "True     5150\n",
       "False    4850\n",
       "Name: is_male, dtype: int64"
      ]
     },
     "execution_count": 10,
     "metadata": {},
     "output_type": "execute_result"
    }
   ],
   "source": [
    "df['is_male'].value_counts()"
   ]
  },
  {
   "cell_type": "code",
   "execution_count": 11,
   "id": "d37e430f-83e7-41cd-9052-cef1acc00914",
   "metadata": {},
   "outputs": [],
   "source": [
    "df = df.dropna()\n",
    "df = shuffle(df, random_state=2)"
   ]
  },
  {
   "cell_type": "code",
   "execution_count": 12,
   "id": "2c3e0a38-d61f-43a3-bb39-379b475d4579",
   "metadata": {},
   "outputs": [],
   "source": [
    "labels = df['weight_pounds']\n",
    "data = df.drop(columns=['weight_pounds'])\n",
    "data['is_male'] = data['is_male'].astype(int)"
   ]
  },
  {
   "cell_type": "code",
   "execution_count": null,
   "id": "d246d9ca-2d32-4a88-9625-0e77c2e48b70",
   "metadata": {},
   "outputs": [],
   "source": [
    "#TRAIN and TEST"
   ]
  },
  {
   "cell_type": "code",
   "execution_count": 16,
   "id": "86f7ff4b-b77b-4a9e-8319-5f8879071c65",
   "metadata": {},
   "outputs": [],
   "source": [
    "x,y = data,labels\n",
    "x_train,x_test,y_train,y_test = train_test_split(x,y)"
   ]
  },
  {
   "cell_type": "code",
   "execution_count": 17,
   "id": "42a2fe2f-634a-47e5-9fb7-b4b178326dba",
   "metadata": {},
   "outputs": [],
   "source": [
    "model = Sequential([\n",
    "    Dense(64, activation='relu', input_shape=(len(x_train.iloc[0]),)),\n",
    "    Dense(32, activation='relu'),\n",
    "    Dense(1)]\n",
    ")"
   ]
  },
  {
   "cell_type": "code",
   "execution_count": 18,
   "id": "e55bd3c6-d625-4ffa-8489-28728fa0bd65",
   "metadata": {},
   "outputs": [],
   "source": [
    "model.compile(optimizer=tf.keras.optimizers.RMSprop(),\n",
    "              loss=tf.keras.losses.MeanSquaredError(),\n",
    "              metrics=['mae', 'mse'])"
   ]
  },
  {
   "cell_type": "code",
   "execution_count": 19,
   "id": "fd02ca4a-039d-4c66-a347-09c91c8e3cb8",
   "metadata": {},
   "outputs": [
    {
     "name": "stderr",
     "output_type": "stream",
     "text": [
      "2022-04-29 16:16:40.576152: I tensorflow/compiler/mlir/mlir_graph_optimization_pass.cc:185] None of the MLIR Optimization Passes are enabled (registered 2)\n"
     ]
    },
    {
     "name": "stdout",
     "output_type": "stream",
     "text": [
      "Epoch 1/10\n",
      "209/209 [==============================] - 2s 5ms/step - loss: 2.1797 - mae: 1.0603 - mse: 2.1797 - val_loss: 1.2587 - val_mae: 0.8862 - val_mse: 1.2587\n",
      "Epoch 2/10\n",
      "209/209 [==============================] - 1s 4ms/step - loss: 1.4631 - mae: 0.9508 - mse: 1.4631 - val_loss: 1.9244 - val_mae: 1.1254 - val_mse: 1.9244\n",
      "Epoch 3/10\n",
      "209/209 [==============================] - 1s 4ms/step - loss: 1.3649 - mae: 0.9167 - mse: 1.3649 - val_loss: 1.6641 - val_mae: 1.0311 - val_mse: 1.6641\n",
      "Epoch 4/10\n",
      "209/209 [==============================] - 1s 4ms/step - loss: 1.3403 - mae: 0.9046 - mse: 1.3403 - val_loss: 1.9310 - val_mae: 1.1278 - val_mse: 1.9310\n",
      "Epoch 5/10\n",
      "209/209 [==============================] - 1s 3ms/step - loss: 1.3105 - mae: 0.8946 - mse: 1.3105 - val_loss: 1.4465 - val_mae: 0.9570 - val_mse: 1.4465\n",
      "Epoch 6/10\n",
      "209/209 [==============================] - 1s 3ms/step - loss: 1.2842 - mae: 0.8850 - mse: 1.2842 - val_loss: 1.8884 - val_mae: 1.0925 - val_mse: 1.8884\n",
      "Epoch 7/10\n",
      "209/209 [==============================] - 1s 3ms/step - loss: 1.2608 - mae: 0.8814 - mse: 1.2608 - val_loss: 1.3164 - val_mae: 0.9062 - val_mse: 1.3164\n",
      "Epoch 8/10\n",
      "209/209 [==============================] - 1s 4ms/step - loss: 1.2517 - mae: 0.8767 - mse: 1.2517 - val_loss: 1.2346 - val_mae: 0.8791 - val_mse: 1.2346\n",
      "Epoch 9/10\n",
      "209/209 [==============================] - 1s 3ms/step - loss: 1.2164 - mae: 0.8606 - mse: 1.2164 - val_loss: 1.8381 - val_mae: 1.0767 - val_mse: 1.8381\n",
      "Epoch 10/10\n",
      "209/209 [==============================] - 1s 3ms/step - loss: 1.1941 - mae: 0.8582 - mse: 1.1941 - val_loss: 1.5059 - val_mae: 0.9656 - val_mse: 1.5059\n"
     ]
    },
    {
     "data": {
      "text/plain": [
       "<keras.callbacks.History at 0x7f355593fbd0>"
      ]
     },
     "execution_count": 19,
     "metadata": {},
     "output_type": "execute_result"
    }
   ],
   "source": [
    "model.fit(x_train, y_train, epochs=10, validation_split=0.1)"
   ]
  }
 ],
 "metadata": {
  "environment": {
   "kernel": "python3",
   "name": "tf2-gpu.2-6.m91",
   "type": "gcloud",
   "uri": "gcr.io/deeplearning-platform-release/tf2-gpu.2-6:m91"
  },
  "kernelspec": {
   "display_name": "Python 3",
   "language": "python",
   "name": "python3"
  },
  "language_info": {
   "codemirror_mode": {
    "name": "ipython",
    "version": 3
   },
   "file_extension": ".py",
   "mimetype": "text/x-python",
   "name": "python",
   "nbconvert_exporter": "python",
   "pygments_lexer": "ipython3",
   "version": "3.7.12"
  }
 },
 "nbformat": 4,
 "nbformat_minor": 5
}
